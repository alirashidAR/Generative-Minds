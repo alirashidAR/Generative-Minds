{
 "cells": [
  {
   "cell_type": "code",
   "execution_count": 2,
   "metadata": {},
   "outputs": [],
   "source": [
    "import matplotlib.pyplot as plt\n",
    "import numpy as np\n",
    "from tensorflow.keras.preprocessing.image import load_img,save_img"
   ]
  },
  {
   "cell_type": "code",
   "execution_count": 3,
   "metadata": {},
   "outputs": [],
   "source": [
    "def get_values(img):\n",
    "    mask_red=np.array([1,0,0])\n",
    "    mask_green=np.array([0,1,0])\n",
    "    input_breg_img=img*mask_red\n",
    "    input_img=img*mask_red\n",
    "    output_img=(img+mask_green)*(img!=13)\n",
    "    for i in range(0,12):\n",
    "        filtered_img_green=img[:,:,1]==i\n",
    "        for j in range(1,10):\n",
    "            filtered_img_blue_mask=img[:,:,2]==j\n",
    "            filtered_img=filtered_img_green*filtered_img_blue_mask\n",
    "            if(np.sum(filtered_img)!=0):\n",
    "                temp=np.argmax(filtered_img,axis=1)\n",
    "                x_start=np.min(temp[temp!=0])\n",
    "                temp=np.argmax(filtered_img,axis=0)\n",
    "                y_start=np.min(temp[temp!=0])\n",
    "                flip=np.flip(filtered_img)\n",
    "                temp=np.argmax(flip,axis=1)\n",
    "                x_end=255-np.min(temp[temp!=0])\n",
    "                temp=np.argmax(flip,axis=0)\n",
    "                y_end=255-np.min(temp[temp!=0])\n",
    "                x_mid=int((x_start+x_end)/2)\n",
    "                y_mid=int((y_start+y_end)/2)\n",
    "\n",
    "                value=i+1\n",
    "                if(i==0):\n",
    "                    value=70\n",
    "\n",
    "                input_img[y_mid-1][x_mid-1][1]=value\n",
    "                input_img[y_mid-1][x_mid][1]=value\n",
    "                input_img[y_mid-1][x_mid+1][1]=value\n",
    "\n",
    "                input_img[y_mid][x_mid-1][1]=value\n",
    "                input_img[y_mid][x_mid][1]=value\n",
    "                input_img[y_mid][x_mid+1][1]=value\n",
    "                \n",
    "                input_img[y_mid+1][x_mid-1][1]=value\n",
    "                input_img[y_mid+1][x_mid][1]=value\n",
    "                input_img[y_mid+1][x_mid+1][1]=value\n",
    "    \n",
    "    return input_breg_img,input_img,output_img\n",
    "            \n",
    "            "
   ]
  },
  {
   "cell_type": "code",
   "execution_count": 4,
   "metadata": {},
   "outputs": [],
   "source": [
    "# for i in range(0,80788):\n",
    "#     path=f\"./dataset/floorplan_dataset/{i}.png\"\n",
    "#     dest_path_in=f\"./processed_dataset/image_gan_in/{i}.png\"\n",
    "#     dest_path_reg_in=f\"./processed_dataset/image_breg_in/{i}.png\"\n",
    "#     dest_path_out=f\"./processed_dataset/image_gan_out/{i}.png\"\n",
    "#     img=np.array(load_img(path))\n",
    "#     input_reg_img,input_img,output_img=get_values(img)\n",
    "#     save_img(dest_path_reg_in,input_reg_img)\n",
    "#     save_img(dest_path_in,input_img)\n",
    "#     save_img(dest_path_out,output_img)    \n",
    "    "
   ]
  },
  {
   "cell_type": "code",
   "execution_count": 5,
   "metadata": {},
   "outputs": [],
   "source": [
    "# for i in range(0,80788):\n",
    "#     path=f\"./dataset/floorplan_dataset/{i}.png\"\n",
    "#     dest_path_out=f\"./processed_dataset/image_gan_out_wall/{i}.png\"\n",
    "#     img=np.array(load_img(path))\n",
    "#     output_img=(img*np.array([0,1,0])==16)*255+(img*np.array([0,1,0])==17)*255+img*np.array([1,0,0])\n",
    "#     save_img(dest_path_out,output_img)"
   ]
  },
  {
   "cell_type": "code",
   "execution_count": 6,
   "metadata": {},
   "outputs": [],
   "source": [
    "color=[\n",
    "    np.array([0,195,255]),      # living room\n",
    "    np.array([0,15,255]),       # master room\n",
    "    np.array([255,155,0]),      # kitchen\n",
    "    np.array([255,0,245]),      # bathroom\n",
    "    np.array([0,115,25]),       # dining room\n",
    "    np.array([255,200,215]),    # child room\n",
    "    np.array([185,100,255]),    # study room\n",
    "    np.array([195,180,255]),    # Second room\n",
    "    np.array([190,245,95]),     # guest room\n",
    "    np.array([0,255,45]),       # Balcony\n",
    "    np.array([115,255,215]),    # Entrance\n",
    "    np.array([180,110,50]),     # Storage\n",
    "    np.array([200,235,255]),    # Wall-in\n",
    "    np.array([255,255,255]),    # External area\n",
    "    np.array([0,0,0]),          # Exterior Wall\n",
    "    np.array([255,0,0]),        # Front door\n",
    "    np.array([0,0,0]),          # Interior wall\n",
    "    np.array([255,255,0])       # interior door\n",
    "]\n",
    "\n",
    "def get_values_final(img):\n",
    "    indoor=(np.reshape((img[:,:,2]!=0).astype(int)+(img[:,:,1]==17).astype(int)+(img[:,:,1]==16).astype(int),(256,256,1)))*np.array([[[235,235,235]]])\n",
    "    outdoor=np.reshape(img[:,:,1]==13,(256,256,1))*np.array([[[255,255,255]]])\n",
    "    door=np.reshape(img[:,:,0]==255,(256,256,1))*np.array([[[255,0,0]]])\n",
    "    wall=np.reshape(img[:,:,0]==127,(256,256,1))*np.array([[[0,0,0]]])\n",
    "    input_breg_img=indoor+outdoor+door+wall\n",
    "    input_img=indoor+outdoor+door+wall\n",
    "    output_img=img\n",
    "    for i in range(0,17):\n",
    "        filtered_img_green=img[:,:,1]==i\n",
    "        output_img=output_img*(np.reshape(filtered_img_green==0,(256,256,1)))+(np.reshape(filtered_img_green,(256,256,1))*color[i])\n",
    "        for j in range(1,10):\n",
    "            filtered_img_blue_mask=img[:,:,2]==j\n",
    "            filtered_img=filtered_img_green*filtered_img_blue_mask\n",
    "\n",
    "            if(np.sum(filtered_img)!=0):\n",
    "                temp=np.argmax(filtered_img,axis=1)\n",
    "                x_start=np.min(temp[temp!=0])\n",
    "                temp=np.argmax(filtered_img,axis=0)\n",
    "                y_start=np.min(temp[temp!=0])\n",
    "                flip=np.flip(filtered_img)\n",
    "                temp=np.argmax(flip,axis=1)\n",
    "                x_end=255-np.min(temp[temp!=0])\n",
    "                temp=np.argmax(flip,axis=0)\n",
    "                y_end=255-np.min(temp[temp!=0])\n",
    "                x_mid=int((x_start+x_end)/2)\n",
    "                y_mid=int((y_start+y_end)/2)\n",
    "\n",
    "                value=color[i]\n",
    "\n",
    "                input_img[y_mid-2][x_mid-2]=value\n",
    "                input_img[y_mid-2][x_mid-1]=value\n",
    "                input_img[y_mid-2][x_mid]=value\n",
    "                input_img[y_mid-2][x_mid+1]=value\n",
    "                input_img[y_mid-2][x_mid+2]=value\n",
    "\n",
    "                input_img[y_mid-1][x_mid-2]=value\n",
    "                input_img[y_mid-1][x_mid-1]=value\n",
    "                input_img[y_mid-1][x_mid]=value\n",
    "                input_img[y_mid-1][x_mid+1]=value\n",
    "                input_img[y_mid-1][x_mid+2]=value\n",
    "\n",
    "                input_img[y_mid][x_mid-2]=value\n",
    "                input_img[y_mid][x_mid-1]=value\n",
    "                input_img[y_mid][x_mid]=value\n",
    "                input_img[y_mid][x_mid+1]=value\n",
    "                input_img[y_mid][x_mid+2]=value\n",
    "                \n",
    "                input_img[y_mid+1][x_mid-2]=value\n",
    "                input_img[y_mid+1][x_mid-1]=value\n",
    "                input_img[y_mid+1][x_mid]=value\n",
    "                input_img[y_mid+1][x_mid+1]=value\n",
    "                input_img[y_mid+1][x_mid+2]=value\n",
    "\n",
    "                input_img[y_mid+2][x_mid-2]=value\n",
    "                input_img[y_mid+2][x_mid-1]=value\n",
    "                input_img[y_mid+2][x_mid]=value\n",
    "                input_img[y_mid+2][x_mid+1]=value\n",
    "                input_img[y_mid+2][x_mid+2]=value\n",
    "    \n",
    "    return input_breg_img,input_img,output_img"
   ]
  },
  {
   "cell_type": "code",
   "execution_count": null,
   "metadata": {},
   "outputs": [],
   "source": [
    "for i in range(0,80788):\n",
    "    path=f\"./dataset/floorplan_dataset/{i}.png\"\n",
    "    dest_path_in=f\"./processed_dataset/image_gan_in_final/{i}.png\"\n",
    "    dest_path_reg_in=f\"./processed_dataset/image_breg_in_final/{i}.png\"\n",
    "    dest_path_out=f\"./processed_dataset/image_gan_out_final/{i}.png\"\n",
    "    img=np.array(load_img(path))\n",
    "    input_reg_img,input_img,output_img=get_values_final(img)\n",
    "    save_img(dest_path_reg_in,input_reg_img)\n",
    "    save_img(dest_path_in,input_img)\n",
    "    save_img(dest_path_out,output_img)    "
   ]
  },
  {
   "cell_type": "code",
   "execution_count": 7,
   "metadata": {},
   "outputs": [
    {
     "data": {
      "text/plain": [
       "<matplotlib.image.AxesImage at 0x1fbd20a5340>"
      ]
     },
     "execution_count": 7,
     "metadata": {},
     "output_type": "execute_result"
    },
    {
     "data": {
      "image/png": "[encoded data removed]",
      "text/plain": [
       "<Figure size 640x480 with 1 Axes>"
      ]
     },
     "metadata": {},
     "output_type": "display_data"
    }
   ],
   "source": [
    "dest_path_out=f\"./processed_dataset/image_gan_out_final/{80787}.png\"\n",
    "output_img=np.array(load_img(dest_path_out))\n",
    "plt.imshow(output_img)"
   ]
  },
  {
   "cell_type": "code",
   "execution_count": 8,
   "metadata": {},
   "outputs": [
    {
     "data": {
      "text/plain": [
       "<matplotlib.image.AxesImage at 0x1fbd42d9760>"
      ]
     },
     "execution_count": 8,
     "metadata": {},
     "output_type": "execute_result"
    },
    {
     "data": {
      "image/png": "[encoded data removed]",
      "text/plain": [
       "<Figure size 640x480 with 1 Axes>"
      ]
     },
     "metadata": {},
     "output_type": "display_data"
    }
   ],
   "source": [
    "dest_path_in=f\"./processed_dataset/image_gan_in_final/{80787}.png\"\n",
    "input_img=np.array(load_img(dest_path_in))\n",
    "plt.imshow(input_img)"
   ]
  },
  {
   "cell_type": "code",
   "execution_count": 9,
   "metadata": {},
   "outputs": [
    {
     "data": {
      "text/plain": [
       "<matplotlib.image.AxesImage at 0x1fbd21963d0>"
      ]
     },
     "execution_count": 9,
     "metadata": {},
     "output_type": "execute_result"
    },
    {
     "data": {
      "image/png": "[encoded data removed]",
      "text/plain": [
       "<Figure size 640x480 with 1 Axes>"
      ]
     },
     "metadata": {},
     "output_type": "display_data"
    }
   ],
   "source": [
    "dest_path_breg_in=f\"./processed_dataset/image_breg_in_final/{80787}.png\"\n",
    "breg_img=np.array(load_img(dest_path_breg_in))\n",
    "plt.imshow(breg_img)"
   ]
  },
  {
   "cell_type": "code",
   "execution_count": null,
   "metadata": {},
   "outputs": [],
   "source": []
  }
 ],
 "metadata": {
  "kernelspec": {
   "display_name": "py39",
   "language": "python",
   "name": "python3"
  },
  "language_info": {
   "codemirror_mode": {
    "name": "ipython",
    "version": 3
   },
   "file_extension": ".py",
   "mimetype": "text/x-python",
   "name": "python",
   "nbconvert_exporter": "python",
   "pygments_lexer": "ipython3",
   "version": "3.9.17"
  },
  "orig_nbformat": 4
 },
 "nbformat": 4,
 "nbformat_minor": 2
}
